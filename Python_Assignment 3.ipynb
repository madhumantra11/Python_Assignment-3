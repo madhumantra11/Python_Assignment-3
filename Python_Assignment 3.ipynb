{
 "cells": [
  {
   "cell_type": "markdown",
   "metadata": {
    "collapsed": false
   },
   "source": [
    "Task 1:\n",
    "\n",
    "Q1. Write a function to compute 5/0 and use try/except to catch the exceptions.\n"
   ]
  },
  {
   "cell_type": "code",
   "execution_count": 3,
   "metadata": {
    "collapsed": false
   },
   "outputs": [
    {
     "name": "stdout",
     "output_type": "stream",
     "text": [
      "ZeroDivisionError - Calculation not supported\n",
      "This block always executed\n"
     ]
    }
   ],
   "source": [
    "def div(a,b):\n",
    "    try:\n",
    "        print(a/b)\n",
    "    except:\n",
    "        print(\"ZeroDivisionError - Calculation not supported\")\n",
    "    finally:\n",
    "        print(\"This block always executed\")\n",
    "\n",
    "div(5,0)\n"
   ]
  },
  {
   "cell_type": "markdown",
   "metadata": {
    "collapsed": false
   },
   "source": [
    "Q2.Implement a Python program to generate all sentences where subject is in \n",
    "   [\"Americans\", \"Indians\"] and verb is in [\"Play\", \"watch\"] and the object is \n",
    "   in [\"Baseball\",\"cricket\"].\n"
   ]
  },
  {
   "cell_type": "code",
   "execution_count": 5,
   "metadata": {
    "collapsed": false
   },
   "outputs": [
    {
     "name": "stdout",
     "output_type": "stream",
     "text": [
      "Americans play baseball.\n",
      "Americans play cricket.\n",
      "Americans watch baseball.\n",
      "Americans watch cricket.\n",
      "Indians play baseball.\n",
      "Indians play cricket.\n",
      "Indians watch baseball.\n",
      "Indians watch cricket.\n"
     ]
    }
   ],
   "source": [
    "subjects = [\"Americans\",\"Indians\"]\n",
    "verbs = [\"play\",\"watch\"]\n",
    "objects = [\"baseball\",\"cricket\"]\n",
    "\n",
    "for i in subjects:\n",
    "\n",
    "    for j in verbs:\n",
    "\n",
    "        for k in objects:\n",
    "            print(i, j, k, end = \".\")\n",
    "            print()\n"
   ]
  },
  {
   "cell_type": "markdown",
   "metadata": {
    "collapsed": false
   },
   "source": [
    "Task 2\n",
    "\n",
    "Q1. "
   ]
  }
 ],
 "metadata": {
  "kernelspec": {
   "display_name": "Python 3 (Anaconda 2019)",
   "env": {
    "LD_LIBRARY_PATH": "/ext/anaconda-2019.03/lib",
    "PROJ_LIB": "/ext/anaconda-2019.03/share/proj",
    "PYTHONHOME": "/ext/anaconda-2019.03/lib/python3.7",
    "PYTHONPATH": "/ext/anaconda-2019.03/lib/python3.7:/ext/anaconda-2019.03/lib/python3.7/site-packages"
   },
   "language": "python",
   "metadata": {
    "cocalc": {
     "description": "Python/R distribution for data science",
     "priority": 5,
     "url": "https://www.anaconda.com/distribution/"
    }
   },
   "name": "anaconda2019"
  },
  "language_info": {
   "codemirror_mode": {
    "name": "ipython",
    "version": 3
   },
   "file_extension": ".py",
   "mimetype": "text/x-python",
   "name": "python",
   "nbconvert_exporter": "python",
   "pygments_lexer": "ipython3",
   "version": "3.7.3"
  }
 },
 "nbformat": 4,
 "nbformat_minor": 0
}